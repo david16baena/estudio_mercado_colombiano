{
 "cells": [
  {
   "cell_type": "code",
   "execution_count": 38,
   "metadata": {},
   "outputs": [],
   "source": [
    "import os\n",
    "import shutil\n",
    "\n",
    "import requests\n",
    "from bs4 import BeautifulSoup\n",
    "\n",
    "from random import uniform\n",
    "from time import sleep\n",
    "\n",
    "queries = ['mug cake package', 'mug cake brands', 'mug cakes packages', 'empaques de mug cake', \n",
    "           'marcas de mug cakes', 'mug cake branding', 'mug cakes sachet', 'mug cakes bolsa',\n",
    "           'mug cakes boxes', 'mug cakes caja', 'mug cakes amazon', 'mug cakes mercado libre',\n",
    "           'mug cakes sales', 'mug cakes logo', 'mug cakes market', 'mug cakes mall',\n",
    "           'mug cakes empaque', 'mug cakes packaging', 'mug cake buy', 'mug cake acheter',\n",
    "           'mug cakes cup package', 'mug cakes kit package', 'mug cakes coffret', 'mug cake couleurs packaging']\n",
    "\n",
    "def download_images(query):\n",
    "    \n",
    "    dirpath = 'imagenes'\n",
    "    if os.path.exists(dirpath) and os.path.isdir(dirpath):\n",
    "        shutil.rmtree(dirpath)\n",
    "    os.mkdir(dirpath)\n",
    "\n",
    "    query= query.split()\n",
    "    query='+'.join(query)\n",
    "    url='https://www.google.co.in/search?q='+query+'&source=lnms&tbm=isch'\n",
    "\n",
    "    r = requests.get(url)\n",
    "    soup = BeautifulSoup(r.content)\n",
    "\n",
    "    i = 0\n",
    "    for image_link in soup.find_all('img'):\n",
    "        if 'http' in image_link.get('src'):\n",
    "            lnk = image_link.get('src')\n",
    "            query_name = query + '_' + str(i)\n",
    "            with open('imagenes/imagen_{}.jpeg'.format(query_name), 'wb') as f:\n",
    "                f.write(requests.get(lnk).content)\n",
    "            i+=1\n",
    "            \n",
    "\n",
    "for query in queries:\n",
    "    download_images(query)\n",
    "    sleep(uniform(4, 8))"
   ]
  }
 ],
 "metadata": {
  "kernelspec": {
   "display_name": "Python 3",
   "language": "python",
   "name": "python3"
  },
  "language_info": {
   "codemirror_mode": {
    "name": "ipython",
    "version": 3
   },
   "file_extension": ".py",
   "mimetype": "text/x-python",
   "name": "python",
   "nbconvert_exporter": "python",
   "pygments_lexer": "ipython3",
   "version": "3.7.4"
  }
 },
 "nbformat": 4,
 "nbformat_minor": 2
}
